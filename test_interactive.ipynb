{
 "cells": [
  {
   "cell_type": "code",
   "execution_count": 1,
   "id": "241f4406",
   "metadata": {},
   "outputs": [
    {
     "data": {
      "application/vnd.jupyter.widget-view+json": {
       "model_id": "69e94d3937284b6e83817958c13c420c",
       "version_major": 2,
       "version_minor": 0
      },
      "text/plain": [
       "interactive(children=(FloatSlider(value=99.9412360766444, continuous_update=False, description='Max Value:', m…"
      ]
     },
     "metadata": {},
     "output_type": "display_data"
    },
    {
     "data": {
      "application/vnd.jupyter.widget-view+json": {
       "model_id": "39c62b805ed148e49a58b1d54c08e35b",
       "version_major": 2,
       "version_minor": 0
      },
      "text/plain": [
       "FloatSlider(value=99.9412360766444, continuous_update=False, description='Max Value:', max=99.9412360766444, m…"
      ]
     },
     "metadata": {},
     "output_type": "display_data"
    }
   ],
   "source": [
    "import numpy as np\n",
    "import matplotlib.pyplot as plt\n",
    "from ipywidgets import interact, FloatSlider\n",
    "from IPython.display import display\n",
    "\n",
    "# Generate some example data\n",
    "data = np.random.rand(10, 10) * 100\n",
    "\n",
    "def plot_image(max_val):\n",
    "    plt.figure(figsize=(6, 6))\n",
    "    plt.imshow(data, vmin=0, vmax=max_val, cmap='viridis')\n",
    "    plt.colorbar()\n",
    "    plt.title(f'Image with max value {max_val}')\n",
    "    plt.show()\n",
    "\n",
    "# Create an interactive slider\n",
    "max_val_slider = FloatSlider(value=np.max(data),\n",
    "                             min=np.min(data),\n",
    "                             max=np.max(data),\n",
    "                             step=1,\n",
    "                             description='Max Value:',\n",
    "                             continuous_update=False)\n",
    "\n",
    "# Use interact to link the slider to the plot function\n",
    "interact(plot_image, max_val=max_val_slider)\n",
    "\n",
    "# Display the slider\n",
    "display(max_val_slider)\n"
   ]
  },
  {
   "cell_type": "code",
   "execution_count": null,
   "id": "f5376c3c",
   "metadata": {},
   "outputs": [],
   "source": []
  }
 ],
 "metadata": {
  "kernelspec": {
   "display_name": "coins_env_2",
   "language": "python",
   "name": "coins_env_2"
  },
  "language_info": {
   "codemirror_mode": {
    "name": "ipython",
    "version": 3
   },
   "file_extension": ".py",
   "mimetype": "text/x-python",
   "name": "python",
   "nbconvert_exporter": "python",
   "pygments_lexer": "ipython3",
   "version": "3.11.9"
  }
 },
 "nbformat": 4,
 "nbformat_minor": 5
}
